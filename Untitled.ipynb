{
 "cells": [
  {
   "cell_type": "code",
   "execution_count": null,
   "id": "ef5faed4",
   "metadata": {},
   "outputs": [],
   "source": [
    "import TreeAnnotations"
   ]
  },
  {
   "cell_type": "code",
   "execution_count": null,
   "id": "f858a4f1",
   "metadata": {},
   "outputs": [],
   "source": [
    "# Some globals\n",
    "\n",
    "site = \"YELL\"\n",
    "year = \"2019\"\n",
    "year_month = \"2019-07\"\n",
    "geosite = \"535000_4971000\"\n",
    "\n",
    "numberOfImagesToDownload = 5\n",
    "\n"
   ]
  },
  {
   "cell_type": "code",
   "execution_count": null,
   "id": "e8d4afa1",
   "metadata": {},
   "outputs": [],
   "source": [
    "# get CSV data\n",
    "TreeAnnotations.downloadAnnotation(site, defaultCSVDropPath/ f\"{site}.csv\")\n",
    "\n",
    "#download images\n"
   ]
  }
 ],
 "metadata": {
  "kernelspec": {
   "display_name": "Python 3",
   "language": "python",
   "name": "python3"
  },
  "language_info": {
   "codemirror_mode": {
    "name": "ipython",
    "version": 3
   },
   "file_extension": ".py",
   "mimetype": "text/x-python",
   "name": "python",
   "nbconvert_exporter": "python",
   "pygments_lexer": "ipython3",
   "version": "3.8.8"
  }
 },
 "nbformat": 4,
 "nbformat_minor": 5
}
