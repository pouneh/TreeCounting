{
 "cells": [
  {
   "cell_type": "code",
   "execution_count": 18,
   "id": "62160d14",
   "metadata": {},
   "outputs": [],
   "source": [
    "from pathlib import Path\n",
    "import socket\n",
    "import requests\n",
    "import requests.packages.urllib3.util.connection as urllib3_cn\n",
    "import TreeAnnotations "
   ]
  },
  {
   "cell_type": "code",
   "execution_count": 19,
   "id": "819ed726",
   "metadata": {},
   "outputs": [],
   "source": [
    "# Some globals\n",
    "\n",
    "neon_image_product_code = \"DP3.30010.001\"\n",
    "site = \"JORN\"\n",
    "year_month = \"2019-08\"\n",
    "\n",
    "#keeping this low until all the moving parts work (development phase)\n",
    "downloadCount = 5;\n",
    "defaultPhotoDropPath = Path(\".\")\n",
    "apiBase = 'https://data.neonscience.org/api/v0/'\n"
   ]
  },
  {
   "cell_type": "code",
   "execution_count": 20,
   "id": "bf9c818c",
   "metadata": {},
   "outputs": [],
   "source": [
    "def allowed_gai_family():\n",
    "    return socket.AF_INET\n",
    "\n",
    "urllib3_cn.allowed_gai_family = allowed_gai_family"
   ]
  },
  {
   "cell_type": "code",
   "execution_count": 21,
   "id": "673490f6",
   "metadata": {},
   "outputs": [],
   "source": [
    "# Get information about the image data set\n",
    "def getProductInfo(neon_image_product_code):\n",
    "    product_info_endpoint = f'products/{neon_image_product_code}'\n",
    "    product_details = requests.get(apiBase+product_info_endpoint)\n",
    "    #print(product_details.content)\n",
    "    return product_details.content\n",
    "\n",
    "# Returns a list of dictionaries with the photo name and download URL\n",
    "def getListOfSiteFilesForYear(dataEndpointWithParams):\n",
    "    responseWithListOfSiteFiles = requests.get(apiBase + dataEndpointWithParams)\n",
    "    return responseWithListOfSiteFiles.json()['data']['files']\n",
    "\n",
    "# downloads a single photo to the photoDropPath\n",
    "def download_image(photoName, photoURL, photoDropPath = defaultPhotoDropPath):    \n",
    "    photoRequest = requests.get(photoURL, allow_redirects=True)\n",
    "    with open(photoDropPath / photoName, 'wb') as f:\n",
    "       f.write(photoRequest.content)\n",
    "\n",
    "# downloads photos from the list of dictionaries returned from getListOfSiteFilesForYear\n",
    "def download_images(image_dictionary, photoDropPath = defaultPhotoDropPath):\n",
    "    for entry in image_dictionary:\n",
    "        download_image(entry['name'], entry['url'], photoDropPath)"
   ]
  },
  {
   "cell_type": "code",
   "execution_count": 22,
   "id": "4f29ecf0",
   "metadata": {
    "scrolled": true
   },
   "outputs": [],
   "source": [
    "dataEndpointWithParams = f'data/{neon_image_product_code}/{site}/{year_month}?package=basic'\n",
    "image_list_dictionary = getListOfSiteFilesForYear(dataEndpointWithParams)\n",
    "\n",
    "image_list_dictionary = image_list_dictionary[:downloadCount]\n",
    "download_images(image_list_dictionary)"
   ]
  },
  {
   "cell_type": "code",
   "execution_count": 17,
   "id": "f898bd31",
   "metadata": {},
   "outputs": [],
   "source": [
    "TreeAnnotations.downloadAnnotation(site, defaultPhotoDropPath/ f\"{site}.csv\")"
   ]
  }
 ],
 "metadata": {
  "kernelspec": {
   "display_name": "Python 3",
   "language": "python",
   "name": "python3"
  },
  "language_info": {
   "codemirror_mode": {
    "name": "ipython",
    "version": 3
   },
   "file_extension": ".py",
   "mimetype": "text/x-python",
   "name": "python",
   "nbconvert_exporter": "python",
   "pygments_lexer": "ipython3",
   "version": "3.8.8"
  }
 },
 "nbformat": 4,
 "nbformat_minor": 5
}
